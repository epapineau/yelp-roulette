{
 "cells": [
  {
   "cell_type": "code",
   "execution_count": 1,
   "metadata": {},
   "outputs": [],
   "source": [
    "# Import dependencies\n",
    "import time\n",
    "import json\n",
    "import random\n",
    "import requests\n",
    "import pandas as pd\n",
    "import datetime as dt\n",
    "from config import auth, key"
   ]
  },
  {
   "cell_type": "code",
   "execution_count": 2,
   "metadata": {},
   "outputs": [],
   "source": [
    "# Get current location; https://ipstack.com/quickstart \n",
    "ip = \"73.162.222.67\"\n",
    "locURL = f\"http://api.ipstack.com/{ip}?access_key={key}\"\n",
    "r = requests.get(locURL).json()\n",
    "searchLat = r['latitude']\n",
    "searchLon = r['longitude']"
   ]
  },
  {
   "cell_type": "code",
   "execution_count": 3,
   "metadata": {},
   "outputs": [],
   "source": [
    "# Authorize to yelp\n",
    "headers = {\"Authorization\":\"Bearer \" + auth}\n",
    "plusHour = dt.datetime.now() + dt.timedelta(hours = 1)\n",
    "plusHour = time.mktime(plusHour.timetuple())\n",
    "plusHour = int(plusHour)\n",
    "walkingDistance = 1600  # 1 mile = 1609.34 meters\n",
    "\n",
    "yelpURL = f\"https://api.yelp.com/v3/businesses/search?latitude={searchLat}&longitude={searchLon}&open_at={plusHour}&radius={walkingDistance}&term=restaurants&limit=50\"\n",
    "nearbyOptions = requests.get(yelpURL, headers = headers).json()"
   ]
  },
  {
   "cell_type": "code",
   "execution_count": 5,
   "metadata": {},
   "outputs": [
    {
     "data": {
      "text/plain": [
       "{'id': 'mbmJRdYFNUKeV_toR0KfVA',\n",
       " 'alias': 'hopwater-distribution-san-francisco',\n",
       " 'name': 'Hopwater Distribution',\n",
       " 'image_url': 'https://s3-media3.fl.yelpcdn.com/bphoto/4oteOYmqMzyFlr3z1tpMvg/o.jpg',\n",
       " 'is_closed': False,\n",
       " 'url': 'https://www.yelp.com/biz/hopwater-distribution-san-francisco?adjust_creative=8kiuH0rxo572u9IaZnsGzw&utm_campaign=yelp_api_v3&utm_medium=api_v3_business_search&utm_source=8kiuH0rxo572u9IaZnsGzw',\n",
       " 'review_count': 655,\n",
       " 'categories': [{'alias': 'tradamerican', 'title': 'American (Traditional)'},\n",
       "  {'alias': 'beerbar', 'title': 'Beer Bar'}],\n",
       " 'rating': 4.5,\n",
       " 'coordinates': {'latitude': 37.7899538528782, 'longitude': -122.411338984966},\n",
       " 'transactions': [],\n",
       " 'price': '$$',\n",
       " 'location': {'address1': '850 Bush St',\n",
       "  'address2': '',\n",
       "  'address3': '',\n",
       "  'city': 'San Francisco',\n",
       "  'zip_code': '94108',\n",
       "  'country': 'US',\n",
       "  'state': 'CA',\n",
       "  'display_address': ['850 Bush St', 'San Francisco, CA 94108']},\n",
       " 'phone': '',\n",
       " 'display_phone': '',\n",
       " 'distance': 666.9290691960827}"
      ]
     },
     "execution_count": 5,
     "metadata": {},
     "output_type": "execute_result"
    }
   ],
   "source": [
    "nearbyOptions['businesses'][random.randrange(len(nearbyOptions['businesses']))]"
   ]
  },
  {
   "cell_type": "code",
   "execution_count": null,
   "metadata": {},
   "outputs": [],
   "source": []
  }
 ],
 "metadata": {
  "kernelspec": {
   "display_name": "Python 3",
   "language": "python",
   "name": "python3"
  },
  "language_info": {
   "codemirror_mode": {
    "name": "ipython",
    "version": 3
   },
   "file_extension": ".py",
   "mimetype": "text/x-python",
   "name": "python",
   "nbconvert_exporter": "python",
   "pygments_lexer": "ipython3",
   "version": "3.6.5"
  }
 },
 "nbformat": 4,
 "nbformat_minor": 2
}
